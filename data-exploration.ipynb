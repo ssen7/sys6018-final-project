{
 "cells": [
  {
   "cell_type": "code",
   "execution_count": 1,
   "metadata": {},
   "outputs": [],
   "source": [
    "import pandas as pd\n",
    "import numpy as np\n",
    "import os\n",
    "import glob"
   ]
  },
  {
   "cell_type": "code",
   "execution_count": 22,
   "metadata": {},
   "outputs": [
    {
     "data": {
      "text/plain": [
       "['./data/tracks/A', './data/tracks/B', './data/tracks/C']"
      ]
     },
     "execution_count": 22,
     "metadata": {},
     "output_type": "execute_result"
    }
   ],
   "source": [
    "track_base_path = './data/tracks/'\n",
    "tracks_path = os.listdir(track_base_path)\n",
    "tracks_path = [track_base_path  + str(x) for x in tracks_path]\n",
    "# for path in paths:\n",
    "#     all_paths.append(os.listdir(path))\n",
    "tracks_path"
   ]
  },
  {
   "cell_type": "code",
   "execution_count": 23,
   "metadata": {},
   "outputs": [],
   "source": [
    "all_paths = []\n",
    "for path in tracks_path:\n",
    "    path_list = os.listdir(path)\n",
    "    full_path = [path + '/' + str(x) for x in path_list]\n",
    "    all_paths.append(full_path)\n",
    "\n",
    "temp = []\n",
    "tracks = []\n",
    "for path in all_paths:\n",
    "    for p2 in path:\n",
    "        temp.append([p2 + '/' +x  for x in os.listdir(p2)])\n",
    "\n",
    "for tp in temp:\n",
    "    for i in tp:\n",
    "        tracks.append(i)"
   ]
  },
  {
   "cell_type": "code",
   "execution_count": 25,
   "metadata": {},
   "outputs": [
    {
     "data": {
      "text/plain": [
       "911"
      ]
     },
     "execution_count": 25,
     "metadata": {},
     "output_type": "execute_result"
    }
   ],
   "source": [
    "len(tracks)"
   ]
  },
  {
   "cell_type": "code",
   "execution_count": 26,
   "metadata": {},
   "outputs": [
    {
     "name": "stdout",
     "output_type": "stream",
     "text": [
      "['/analysis/songs', '/metadata/songs', '/musicbrainz/songs']\n"
     ]
    }
   ],
   "source": [
    "store = pd.HDFStore(tracks[0])\n",
    "keys = store.keys()\n",
    "print(keys)\n",
    "store.close()"
   ]
  },
  {
   "cell_type": "code",
   "execution_count": 27,
   "metadata": {},
   "outputs": [
    {
     "data": {
      "text/html": [
       "<div>\n",
       "<style scoped>\n",
       "    .dataframe tbody tr th:only-of-type {\n",
       "        vertical-align: middle;\n",
       "    }\n",
       "\n",
       "    .dataframe tbody tr th {\n",
       "        vertical-align: top;\n",
       "    }\n",
       "\n",
       "    .dataframe thead th {\n",
       "        text-align: right;\n",
       "    }\n",
       "</style>\n",
       "<table border=\"1\" class=\"dataframe\">\n",
       "  <thead>\n",
       "    <tr style=\"text-align: right;\">\n",
       "      <th></th>\n",
       "      <th>analyzer_version</th>\n",
       "      <th>artist_7digitalid</th>\n",
       "      <th>artist_familiarity</th>\n",
       "      <th>artist_hotttnesss</th>\n",
       "      <th>artist_id</th>\n",
       "      <th>artist_latitude</th>\n",
       "      <th>artist_location</th>\n",
       "      <th>artist_longitude</th>\n",
       "      <th>artist_mbid</th>\n",
       "      <th>artist_name</th>\n",
       "      <th>...</th>\n",
       "      <th>idx_artist_terms</th>\n",
       "      <th>idx_similar_artists</th>\n",
       "      <th>release</th>\n",
       "      <th>release_7digitalid</th>\n",
       "      <th>song_hotttnesss</th>\n",
       "      <th>song_id</th>\n",
       "      <th>title</th>\n",
       "      <th>track_7digitalid</th>\n",
       "      <th>idx_artist_mbtags</th>\n",
       "      <th>year</th>\n",
       "    </tr>\n",
       "  </thead>\n",
       "  <tbody>\n",
       "    <tr>\n",
       "      <th>0</th>\n",
       "      <td></td>\n",
       "      <td>165270</td>\n",
       "      <td>0.581794</td>\n",
       "      <td>0.401998</td>\n",
       "      <td>ARD7TVE1187B99BFB1</td>\n",
       "      <td>NaN</td>\n",
       "      <td>California - LA</td>\n",
       "      <td>NaN</td>\n",
       "      <td>e77e51a5-4761-45b3-9847-2051f811e366</td>\n",
       "      <td>Casual</td>\n",
       "      <td>...</td>\n",
       "      <td>0</td>\n",
       "      <td>0</td>\n",
       "      <td>Fear Itself</td>\n",
       "      <td>300848</td>\n",
       "      <td>0.60212</td>\n",
       "      <td>SOMZWCG12A8C13C480</td>\n",
       "      <td>I Didn't Mean To</td>\n",
       "      <td>3401791</td>\n",
       "      <td>0</td>\n",
       "      <td>0</td>\n",
       "    </tr>\n",
       "  </tbody>\n",
       "</table>\n",
       "<p>1 rows × 22 columns</p>\n",
       "</div>"
      ],
      "text/plain": [
       "  analyzer_version  artist_7digitalid  artist_familiarity  artist_hotttnesss  \\\n",
       "0                              165270            0.581794           0.401998   \n",
       "\n",
       "            artist_id  artist_latitude  artist_location  artist_longitude  \\\n",
       "0  ARD7TVE1187B99BFB1              NaN  California - LA               NaN   \n",
       "\n",
       "                            artist_mbid artist_name  ...   idx_artist_terms  \\\n",
       "0  e77e51a5-4761-45b3-9847-2051f811e366      Casual  ...                  0   \n",
       "\n",
       "  idx_similar_artists      release  release_7digitalid song_hotttnesss  \\\n",
       "0                   0  Fear Itself              300848         0.60212   \n",
       "\n",
       "              song_id             title track_7digitalid idx_artist_mbtags  \\\n",
       "0  SOMZWCG12A8C13C480  I Didn't Mean To          3401791                 0   \n",
       "\n",
       "   year  \n",
       "0     0  \n",
       "\n",
       "[1 rows x 22 columns]"
      ]
     },
     "execution_count": 27,
     "metadata": {},
     "output_type": "execute_result"
    }
   ],
   "source": [
    "pd.concat([pd.read_hdf(tracks[0], key=keys[1]),pd.read_hdf(tracks[0], key=keys[2])], axis=1)"
   ]
  },
  {
   "cell_type": "code",
   "execution_count": 40,
   "metadata": {},
   "outputs": [
    {
     "data": {
      "text/html": [
       "<div>\n",
       "<style scoped>\n",
       "    .dataframe tbody tr th:only-of-type {\n",
       "        vertical-align: middle;\n",
       "    }\n",
       "\n",
       "    .dataframe tbody tr th {\n",
       "        vertical-align: top;\n",
       "    }\n",
       "\n",
       "    .dataframe thead th {\n",
       "        text-align: right;\n",
       "    }\n",
       "</style>\n",
       "<table border=\"1\" class=\"dataframe\">\n",
       "  <thead>\n",
       "    <tr style=\"text-align: right;\">\n",
       "      <th></th>\n",
       "      <th>analyzer_version</th>\n",
       "      <th>artist_7digitalid</th>\n",
       "      <th>artist_familiarity</th>\n",
       "      <th>artist_hotttnesss</th>\n",
       "      <th>artist_id</th>\n",
       "      <th>artist_latitude</th>\n",
       "      <th>artist_location</th>\n",
       "      <th>artist_longitude</th>\n",
       "      <th>artist_mbid</th>\n",
       "      <th>artist_name</th>\n",
       "      <th>artist_playmeid</th>\n",
       "      <th>genre</th>\n",
       "      <th>idx_artist_terms</th>\n",
       "      <th>idx_similar_artists</th>\n",
       "      <th>release</th>\n",
       "      <th>release_7digitalid</th>\n",
       "      <th>song_hotttnesss</th>\n",
       "      <th>song_id</th>\n",
       "      <th>title</th>\n",
       "      <th>track_7digitalid</th>\n",
       "    </tr>\n",
       "  </thead>\n",
       "  <tbody>\n",
       "    <tr>\n",
       "      <th>0</th>\n",
       "      <td></td>\n",
       "      <td>165270</td>\n",
       "      <td>0.581794</td>\n",
       "      <td>0.401998</td>\n",
       "      <td>ARD7TVE1187B99BFB1</td>\n",
       "      <td>NaN</td>\n",
       "      <td>California - LA</td>\n",
       "      <td>NaN</td>\n",
       "      <td>e77e51a5-4761-45b3-9847-2051f811e366</td>\n",
       "      <td>Casual</td>\n",
       "      <td>4479</td>\n",
       "      <td></td>\n",
       "      <td>0</td>\n",
       "      <td>0</td>\n",
       "      <td>Fear Itself</td>\n",
       "      <td>300848</td>\n",
       "      <td>0.60212</td>\n",
       "      <td>SOMZWCG12A8C13C480</td>\n",
       "      <td>I Didn't Mean To</td>\n",
       "      <td>3401791</td>\n",
       "    </tr>\n",
       "  </tbody>\n",
       "</table>\n",
       "</div>"
      ],
      "text/plain": [
       "  analyzer_version  artist_7digitalid  artist_familiarity  artist_hotttnesss  \\\n",
       "0                              165270            0.581794           0.401998   \n",
       "\n",
       "            artist_id  artist_latitude  artist_location  artist_longitude  \\\n",
       "0  ARD7TVE1187B99BFB1              NaN  California - LA               NaN   \n",
       "\n",
       "                            artist_mbid artist_name  artist_playmeid genre  \\\n",
       "0  e77e51a5-4761-45b3-9847-2051f811e366      Casual             4479         \n",
       "\n",
       "   idx_artist_terms  idx_similar_artists      release  release_7digitalid  \\\n",
       "0                 0                    0  Fear Itself              300848   \n",
       "\n",
       "   song_hotttnesss             song_id             title  track_7digitalid  \n",
       "0          0.60212  SOMZWCG12A8C13C480  I Didn't Mean To           3401791  "
      ]
     },
     "execution_count": 40,
     "metadata": {},
     "output_type": "execute_result"
    }
   ],
   "source": [
    "pd.read_hdf(tracks[0], key=keys[1])"
   ]
  },
  {
   "cell_type": "code",
   "execution_count": 7,
   "metadata": {},
   "outputs": [],
   "source": [
    "keys = ['/analysis/songs', '/metadata/songs', '/musicbrainz/songs']\n",
    "def create_complete_row(track):\n",
    "    df = pd.concat([pd.read_hdf(track, key=keys[0]), \n",
    "                    pd.read_hdf(track, key=keys[1]),\n",
    "                    pd.read_hdf(track, key=keys[2])], axis=1)\n",
    "    \n",
    "    return df"
   ]
  },
  {
   "cell_type": "code",
   "execution_count": 28,
   "metadata": {},
   "outputs": [],
   "source": [
    "df_rows = [create_complete_row(track) for track in tracks]"
   ]
  },
  {
   "cell_type": "code",
   "execution_count": 29,
   "metadata": {},
   "outputs": [],
   "source": [
    "df = pd.concat(df_rows).reset_index()"
   ]
  },
  {
   "cell_type": "code",
   "execution_count": 30,
   "metadata": {},
   "outputs": [],
   "source": [
    "df = df.drop('index', axis=1)"
   ]
  },
  {
   "cell_type": "code",
   "execution_count": 35,
   "metadata": {},
   "outputs": [
    {
     "data": {
      "text/plain": [
       "Index(['analysis_sample_rate', 'audio_md5', 'danceability', 'duration',\n",
       "       'end_of_fade_in', 'energy', 'idx_bars_confidence', 'idx_bars_start',\n",
       "       'idx_beats_confidence', 'idx_beats_start', 'idx_sections_confidence',\n",
       "       'idx_sections_start', 'idx_segments_confidence',\n",
       "       'idx_segments_loudness_max', 'idx_segments_loudness_max_time',\n",
       "       'idx_segments_loudness_start', 'idx_segments_pitches',\n",
       "       'idx_segments_start', 'idx_segments_timbre', 'idx_tatums_confidence',\n",
       "       'idx_tatums_start', 'key', 'key_confidence', 'loudness', 'mode',\n",
       "       'mode_confidence', 'start_of_fade_out', 'tempo', 'time_signature',\n",
       "       'time_signature_confidence', 'track_id', 'analyzer_version',\n",
       "       'artist_7digitalid', 'artist_familiarity', 'artist_hotttnesss',\n",
       "       'artist_id', 'artist_latitude', 'artist_location', 'artist_longitude',\n",
       "       'artist_mbid', 'artist_name', 'artist_playmeid', 'genre',\n",
       "       'idx_artist_terms', 'idx_similar_artists', 'release',\n",
       "       'release_7digitalid', 'song_hotttnesss', 'song_id', 'title',\n",
       "       'track_7digitalid', 'idx_artist_mbtags', 'year'],\n",
       "      dtype='object')"
      ]
     },
     "execution_count": 35,
     "metadata": {},
     "output_type": "execute_result"
    }
   ],
   "source": [
    "df.columns"
   ]
  },
  {
   "cell_type": "code",
   "execution_count": 32,
   "metadata": {},
   "outputs": [],
   "source": [
    "df.to_csv('songs.csv')"
   ]
  },
  {
   "cell_type": "markdown",
   "metadata": {},
   "source": [
    "## Looking at tagtraum data"
   ]
  },
  {
   "cell_type": "code",
   "execution_count": 33,
   "metadata": {},
   "outputs": [],
   "source": [
    "addnl = pd.read_table('./data/tagtraum/msd_tagtraum_cd1.cls/msd_tagtraum_cd1.txt', sep='\\t', skiprows=7, names=['track_id', 'Tag1', 'Tag2'])"
   ]
  },
  {
   "cell_type": "code",
   "execution_count": 36,
   "metadata": {},
   "outputs": [],
   "source": [
    "df_m = df.merge(addnl, on='track_id')"
   ]
  },
  {
   "cell_type": "code",
   "execution_count": 45,
   "metadata": {},
   "outputs": [],
   "source": [
    "df_m.to_csv('songs_with_genre.csv')"
   ]
  }
 ],
 "metadata": {
  "kernelspec": {
   "display_name": "Python 3",
   "language": "python",
   "name": "python3"
  },
  "language_info": {
   "codemirror_mode": {
    "name": "ipython",
    "version": 3
   },
   "file_extension": ".py",
   "mimetype": "text/x-python",
   "name": "python",
   "nbconvert_exporter": "python",
   "pygments_lexer": "ipython3",
   "version": "3.6.6"
  }
 },
 "nbformat": 4,
 "nbformat_minor": 2
}
