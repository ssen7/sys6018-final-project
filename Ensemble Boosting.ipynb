{
 "cells": [
  {
   "cell_type": "code",
   "execution_count": 1,
   "metadata": {},
   "outputs": [],
   "source": [
    "import pandas as pd\n",
    "from sklearn.ensemble import GradientBoostingClassifier\n",
    "from sklearn.model_selection import KFold, cross_val_score, GridSearchCV"
   ]
  },
  {
   "cell_type": "code",
   "execution_count": 47,
   "metadata": {},
   "outputs": [],
   "source": [
    "x_train = pd.read_csv('X_train_merged.csv')\n",
    "y_train = pd.read_csv('y_train.csv')\n",
    "y_train = y_train['Genre']\n",
    "x_train.drop(columns = ['Unnamed: 0','Unnamed: 0.1','Unnamed: 0.1.1', 'track_id', 'Tag1'], inplace=True)\n",
    "x_test = pd.read_csv('X_test_merged.csv')\n",
    "y_test = pd.read_csv('y_test.csv')\n",
    "y_test = y_test['Genre']\n",
    "x_test.drop(columns = ['Unnamed: 0', 'Unnamed: 0.1','Unnamed: 0.1.1','track_id', 'Tag1'], inplace=True)"
   ]
  },
  {
   "cell_type": "code",
   "execution_count": 44,
   "metadata": {},
   "outputs": [
    {
     "data": {
      "text/plain": [
       "Rock          6614\n",
       "Pop           1204\n",
       "Metal         1048\n",
       "Country        852\n",
       "Rap            779\n",
       "RnB            646\n",
       "Electronic     487\n",
       "Punk           385\n",
       "Reggae         312\n",
       "Folk           291\n",
       "Jazz           269\n",
       "Latin          202\n",
       "Blues          195\n",
       "Name: Genre, dtype: int64"
      ]
     },
     "execution_count": 44,
     "metadata": {},
     "output_type": "execute_result"
    }
   ],
   "source": [
    "y_train.value_counts()"
   ]
  },
  {
   "cell_type": "markdown",
   "metadata": {},
   "source": [
    "## Ensemble Boosting"
   ]
  },
  {
   "cell_type": "markdown",
   "metadata": {},
   "source": [
    "As boosting ran well for both the text and audio analysis separately. It was chosen as one of the performers to look at the ensemble data. To limit the time intensity of cross-validation for this method. The test values for parameters were kept within the range of values previously found to be useful"
   ]
  },
  {
   "cell_type": "code",
   "execution_count": 49,
   "metadata": {},
   "outputs": [
    {
     "name": "stdout",
     "output_type": "stream",
     "text": [
      "Fitting 5 folds for each of 12 candidates, totalling 60 fits\n"
     ]
    },
    {
     "name": "stderr",
     "output_type": "stream",
     "text": [
      "[Parallel(n_jobs=1)]: Using backend SequentialBackend with 1 concurrent workers.\n",
      "[Parallel(n_jobs=1)]: Done  60 out of  60 | elapsed:  4.1min finished\n"
     ]
    },
    {
     "data": {
      "text/plain": [
       "GridSearchCV(cv=5, error_score='raise-deprecating',\n",
       "       estimator=GradientBoostingClassifier(criterion='friedman_mse', init=None,\n",
       "              learning_rate=0.1, loss='deviance', max_depth=3,\n",
       "              max_features=20, max_leaf_nodes=None,\n",
       "              min_impurity_decrease=0.0, min_impurity_split=None,\n",
       "              min_samples_leaf=1, min_samples...      subsample=1.0, tol=0.0001, validation_fraction=0.1,\n",
       "              verbose=0, warm_start=False),\n",
       "       fit_params=None, iid='warn', n_jobs=1,\n",
       "       param_grid={'learning_rate': [0.025, 0.05, 0.1], 'max_depth': [2, 3, 4, 5]},\n",
       "       pre_dispatch='2*n_jobs', refit=True, return_train_score='warn',\n",
       "       scoring=None, verbose=1)"
      ]
     },
     "execution_count": 49,
     "metadata": {},
     "output_type": "execute_result"
    }
   ],
   "source": [
    "gb = GradientBoostingClassifier(n_estimators=30, max_features=20, random_state = 0)\n",
    "params = {'learning_rate':[0.025, 0.05, 0.1], 'max_depth':[2, 3, 4, 5]}\n",
    "gsgb = GridSearchCV(estimator=gb,\n",
    "                  param_grid=params,\n",
    "                  n_jobs=1,\n",
    "                  cv=5,\n",
    "                  verbose=1)\n",
    "gsgb.fit(x_train, y_train)"
   ]
  },
  {
   "cell_type": "code",
   "execution_count": 50,
   "metadata": {},
   "outputs": [
    {
     "name": "stdout",
     "output_type": "stream",
     "text": [
      "0.49789220114423366\n"
     ]
    },
    {
     "data": {
      "text/plain": [
       "GradientBoostingClassifier(criterion='friedman_mse', init=None,\n",
       "              learning_rate=0.025, loss='deviance', max_depth=2,\n",
       "              max_features=20, max_leaf_nodes=None,\n",
       "              min_impurity_decrease=0.0, min_impurity_split=None,\n",
       "              min_samples_leaf=1, min_samples_split=2,\n",
       "              min_weight_fraction_leaf=0.0, n_estimators=30,\n",
       "              n_iter_no_change=None, presort='auto', random_state=0,\n",
       "              subsample=1.0, tol=0.0001, validation_fraction=0.1,\n",
       "              verbose=0, warm_start=False)"
      ]
     },
     "execution_count": 50,
     "metadata": {},
     "output_type": "execute_result"
    }
   ],
   "source": [
    "dir(gsgb)\n",
    "print(gsgb.best_score_)\n",
    "gsgb.best_estimator_"
   ]
  },
  {
   "cell_type": "code",
   "execution_count": 77,
   "metadata": {},
   "outputs": [],
   "source": [
    "gb = GradientBoostingClassifier(n_estimators=500, max_features=20, random_state = 0, learning_rate = 0.025, max_depth = 2)\n",
    "gb.fit(x_train, y_train)\n",
    "predictions = gb.predict(x_test)"
   ]
  },
  {
   "cell_type": "code",
   "execution_count": 78,
   "metadata": {},
   "outputs": [
    {
     "data": {
      "text/plain": [
       "0.4851709304958116"
      ]
     },
     "execution_count": 78,
     "metadata": {},
     "output_type": "execute_result"
    }
   ],
   "source": [
    "z = (y_test == predictions).sum()\n",
    "z/len(y_test)"
   ]
  },
  {
   "cell_type": "code",
   "execution_count": 79,
   "metadata": {},
   "outputs": [],
   "source": [
    "feature_list = list(x_train.columns)\n",
    "importances = list(gb.feature_importances_)\n",
    "\n",
    "#List of tuples with variable and importance\n",
    "feature_importances = [(feature, round(importance, 3)) for feature, importance in zip(feature_list, importances)]\n",
    "\n",
    "#Sort the feature importances by most important first\n",
    "feature_importances = sorted(feature_importances, key = lambda x: x[1], reverse = True)\n",
    "\n",
    "# Most important features\n",
    "important = list(filter(lambda x: x[1] >= 0.001, feature_importances))"
   ]
  },
  {
   "cell_type": "code",
   "execution_count": 85,
   "metadata": {},
   "outputs": [
    {
     "data": {
      "text/plain": [
       "[('timbre_6', 0.01),\n",
       " ('hand', 0.005),\n",
       " ('pass', 0.005),\n",
       " ('send', 0.005),\n",
       " ('timbre_8', 0.005),\n",
       " ('timbre_11', 0.005),\n",
       " ('age', 0.004),\n",
       " ('devil', 0.004),\n",
       " ('hour', 0.004),\n",
       " ('see', 0.004),\n",
       " ('tell', 0.004)]"
      ]
     },
     "execution_count": 85,
     "metadata": {},
     "output_type": "execute_result"
    }
   ],
   "source": [
    "important[0:11]"
   ]
  },
  {
   "cell_type": "markdown",
   "metadata": {},
   "source": [
    "Comparing the distributions of the actual and predicted values"
   ]
  },
  {
   "cell_type": "code",
   "execution_count": 81,
   "metadata": {},
   "outputs": [
    {
     "data": {
      "text/plain": [
       "Rock          2148\n",
       "Pop            411\n",
       "Metal          345\n",
       "Country        273\n",
       "Rap            251\n",
       "RnB            218\n",
       "Electronic     180\n",
       "Folk           120\n",
       "Punk           119\n",
       "Reggae         100\n",
       "Latin           97\n",
       "Jazz            87\n",
       "Blues           68\n",
       "Name: Genre, dtype: int64"
      ]
     },
     "execution_count": 81,
     "metadata": {},
     "output_type": "execute_result"
    }
   ],
   "source": [
    "y_test.value_counts()"
   ]
  },
  {
   "cell_type": "code",
   "execution_count": 82,
   "metadata": {},
   "outputs": [
    {
     "data": {
      "text/plain": [
       "Rock          4399\n",
       "Punk             4\n",
       "Jazz             3\n",
       "Electronic       2\n",
       "Blues            2\n",
       "Metal            2\n",
       "Rap              2\n",
       "Latin            1\n",
       "RnB              1\n",
       "Reggae           1\n",
       "dtype: int64"
      ]
     },
     "execution_count": 82,
     "metadata": {},
     "output_type": "execute_result"
    }
   ],
   "source": [
    "pd.Series(predictions).value_counts()"
   ]
  },
  {
   "cell_type": "markdown",
   "metadata": {},
   "source": [
    "Looking at the confusion matrix"
   ]
  },
  {
   "cell_type": "code",
   "execution_count": 83,
   "metadata": {},
   "outputs": [],
   "source": [
    "from sklearn.metrics import confusion_matrix\n",
    "from sklearn.preprocessing import normalize\n",
    "import matplotlib.pyplot as plt\n",
    "import seaborn as sns\n",
    "d = list(set(y_test.values))\n",
    "conf = confusion_matrix(y_test, predictions, labels = d)\n",
    "normed_matrix = normalize(conf, axis=1, norm='l1')"
   ]
  },
  {
   "cell_type": "code",
   "execution_count": 84,
   "metadata": {},
   "outputs": [
    {
     "data": {
      "text/plain": [
       "<matplotlib.axes._subplots.AxesSubplot at 0x24984768f98>"
      ]
     },
     "execution_count": 84,
     "metadata": {},
     "output_type": "execute_result"
    },
    {
     "data": {
      "image/png": "[encoded data removed]",
      "text/plain": [
       "<Figure size 1224x1224 with 2 Axes>"
      ]
     },
     "metadata": {
      "needs_background": "light"
     },
     "output_type": "display_data"
    }
   ],
   "source": [
    "fig, ax = plt.subplots(figsize=(17,17))\n",
    "sns.heatmap(normed_matrix, cmap=\"YlGnBu\", ax = ax, xticklabels = d, yticklabels = d, annot = True)"
   ]
  }
 ],
 "metadata": {
  "kernelspec": {
   "display_name": "Python 3",
   "language": "python",
   "name": "python3"
  },
  "language_info": {
   "codemirror_mode": {
    "name": "ipython",
    "version": 3
   },
   "file_extension": ".py",
   "mimetype": "text/x-python",
   "name": "python",
   "nbconvert_exporter": "python",
   "pygments_lexer": "ipython3",
   "version": "3.6.7"
  }
 },
 "nbformat": 4,
 "nbformat_minor": 2
}
